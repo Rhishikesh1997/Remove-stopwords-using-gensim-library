{
 "cells": [
  {
   "cell_type": "code",
   "execution_count": 10,
   "metadata": {},
   "outputs": [],
   "source": [
    "from gensim.parsing.preprocessing import remove_stopwords\n",
    "import gensim\n",
    "from gensim.parsing.preprocessing import STOPWORDS\n",
    "from nltk.tokenize import word_tokenize"
   ]
  },
  {
   "cell_type": "code",
   "execution_count": 11,
   "metadata": {},
   "outputs": [
    {
     "name": "stdout",
     "output_type": "stream",
     "text": [
      "Hello everyone, welcome youtube channel statistics data science subscribe hit bell icon share\n"
     ]
    }
   ],
   "source": [
    "text =  \"Hello everyone, welcome all to my youtube channel statistics and data science please subscribe it and hit the bell icon and also share it\"\n",
    "filtered_text = remove_stopwords(text)\n",
    "\n",
    "print(filtered_text)"
   ]
  },
  {
   "cell_type": "code",
   "execution_count": 12,
   "metadata": {},
   "outputs": [
    {
     "name": "stdout",
     "output_type": "stream",
     "text": [
      "337\n",
      "frozenset({'will', 'anyhow', 'for', 'whenever', 'except', 'move', 'would', 'just', 'fire', 'bottom', 'whereby', 'himself', 'among', 'sometime', 'whether', 'un', 'formerly', 'regarding', 'con', 'it', 'thus', 'us', 'have', 'side', 'one', 'due', 'though', 'five', 'top', 'beforehand', 'front', 'thru', 'bill', 'myself', 'throughout', 'whereafter', 'although', 'four', 'while', 'their', 'nothing', 'everywhere', 'after', 'to', 'part', 'eg', 'against', 'yet', 'various', 'last', 'back', 'other', 'rather', 'yourself', 'whither', 'both', 'already', 'up', 'he', 'between', 'wherein', 'still', 'less', 'within', 'nobody', 're', 'and', 'find', 'your', 'mill', 'three', 'empty', 'becomes', 'you', 'becoming', 'amoungst', 'unless', 'go', 'seem', 'an', 'anyone', 'whole', 'with', 'she', 'beyond', 'first', 'which', 'twenty', 'computer', 'all', 'further', 'thick', 'many', 'otherwise', 'ours', 'how', 'too', 'in', 'quite', 'of', 'was', 'de', 'across', 'give', 'detail', 'often', 'either', 'whose', 'cant', 'along', 'used', 'please', 'none', 'least', 'third', 'by', 'upon', 'what', 'next', 'take', 'ltd', 'itself', 'such', 'each', 'they', 'here', 'did', 'few', 'made', 'around', 'hereupon', 'show', 'be', 'latterly', 'put', 'where', 'fill', 'whatever', 'eleven', 'therefore', 'thereafter', 'into', 'twelve', 'then', 'sometimes', 'we', 'when', 'on', 'hence', 'even', 'call', 'every', 'nor', 'etc', 'somehow', 'sixty', 'much', 'hereby', 'describe', 'ourselves', 'serious', 'cry', 'nevertheless', 'why', 'eight', 'yours', 'ten', 'kg', 'through', 'had', 'inc', 'never', 'ever', 'must', 'if', 'name', 'before', 'its', 'below', 'someone', 'are', 'forty', 'hers', 'nine', 'per', 'should', 'mine', 'beside', 'this', 'else', 'something', 'done', 'more', 'me', 'anything', 'the', 'ie', 'get', 'seemed', 'however', 'sincere', 'thereupon', 'make', 'during', 'only', 'found', 'thence', 'afterwards', 'therein', 'or', 'him', 'whence', 'meanwhile', 'above', 'mostly', 'always', 'wherever', 'most', 'over', 'herein', 'besides', 'anywhere', 'my', 'anyway', 'six', 'off', 'down', 'don', 'our', 'because', 'herself', 'were', 'former', 'than', 'whom', 'thereby', 'thin', 'almost', 'might', 'somewhere', 'does', 'a', 'out', 'cannot', 'alone', 'hasnt', 'from', 'same', 'doesn', 'together', 'until', 'towards', 'as', 'system', 'without', 'whereupon', 'onto', 'km', 'become', 'also', 'nowhere', 'now', 'several', 'seems', 'themselves', 'those', 'two', 'everyone', 'can', 'really', 'there', 'amount', 'full', 'some', 'her', 'toward', 'whoever', 'interest', 'say', 'so', 'could', 'them', 'keep', 'yourselves', 'been', 'but', 'behind', 'very', 'namely', 'co', 'latter', 'via', 'any', 'using', 'do', 'indeed', 'became', 'fifty', 'under', 'seeming', 'has', 'his', 'again', 'whereas', 'enough', 'elsewhere', 'moreover', 'hereafter', 'i', 'couldnt', 'at', 'own', 'another', 'fifteen', 'hundred', 'these', 'everything', 'that', 'no', 'about', 'well', 'noone', 'perhaps', 'see', 'am', 'is', 'being', 'neither', 'amongst', 'doing', 'who', 'didn', 'others', 'may', 'not', 'once', 'since'})\n"
     ]
    }
   ],
   "source": [
    "allstopwords = gensim.parsing.preprocessing.STOPWORDS\n",
    "print(len(allstopwords))\n",
    "print(allstopwords)"
   ]
  },
  {
   "cell_type": "markdown",
   "metadata": {},
   "source": [
    "## Adding and removing stopwords from the gensim library stopwords list"
   ]
  },
  {
   "cell_type": "code",
   "execution_count": 13,
   "metadata": {},
   "outputs": [],
   "source": [
    "\n",
    "\n",
    "allstopwords_gensim = STOPWORDS.union(set(['welcome', 'channel']))\n",
    "\n",
    "text = \"Hello everyone, welcome all to my youtube channel statistics and data science please subscribe it and hit the bell icon and also share it\"\n",
    "tokenized_text = word_tokenize(text)\n",
    "filtered_text = [word for word in tokenized_text if not word in allstopwords_gensim]\n",
    "\n"
   ]
  },
  {
   "cell_type": "code",
   "execution_count": 14,
   "metadata": {},
   "outputs": [
    {
     "name": "stdout",
     "output_type": "stream",
     "text": [
      "['Hello', ',', 'youtube', 'statistics', 'data', 'science', 'subscribe', 'hit', 'bell', 'icon', 'share']\n"
     ]
    }
   ],
   "source": [
    "print(filtered_text)"
   ]
  },
  {
   "cell_type": "code",
   "execution_count": 15,
   "metadata": {},
   "outputs": [],
   "source": [
    "from gensim.parsing.preprocessing import STOPWORDS\n",
    "\n",
    "allstopwords_gensim = STOPWORDS\n",
    "useless_list = {\"and\", \"my\"}\n",
    "allstopwords_gensim = STOPWORDS.difference(useless_list)\n",
    "\n",
    "text = \"Hello everyone, welcome all to my youtube channel statistics and data science please subscribe it and hit the bell icon and also share it\"\n",
    "tokenized_text = word_tokenize(text)\n",
    "filtered_text = [word for word in tokenized_text if not word in allstopwords_gensim]\n",
    "\n"
   ]
  },
  {
   "cell_type": "code",
   "execution_count": 16,
   "metadata": {},
   "outputs": [
    {
     "name": "stdout",
     "output_type": "stream",
     "text": [
      "['Hello', ',', 'welcome', 'my', 'youtube', 'channel', 'statistics', 'and', 'data', 'science', 'subscribe', 'and', 'hit', 'bell', 'icon', 'and', 'share']\n"
     ]
    }
   ],
   "source": [
    "print(filtered_text)"
   ]
  },
  {
   "cell_type": "code",
   "execution_count": null,
   "metadata": {},
   "outputs": [],
   "source": []
  }
 ],
 "metadata": {
  "kernelspec": {
   "display_name": "Python 3",
   "language": "python",
   "name": "python3"
  },
  "language_info": {
   "codemirror_mode": {
    "name": "ipython",
    "version": 3
   },
   "file_extension": ".py",
   "mimetype": "text/x-python",
   "name": "python",
   "nbconvert_exporter": "python",
   "pygments_lexer": "ipython3",
   "version": "3.7.4"
  }
 },
 "nbformat": 4,
 "nbformat_minor": 2
}
